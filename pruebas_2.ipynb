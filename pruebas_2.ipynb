{
 "cells": [
  {
   "cell_type": "code",
   "execution_count": null,
   "metadata": {},
   "outputs": [
    {
     "name": "stdout",
     "output_type": "stream",
     "text": [
      "Ha ocurrido un error, vuelve a introducir los valores\n",
      "La orientacion solo puede ser horizontal o vertical. Introduce una de las dos palabras\n",
      "Ha ocurrido un error, vuelve a introducir los valores\n",
      "La orientacion solo puede ser horizontal o vertical. Introduce una de las dos palabras\n",
      "Ha ocurrido un error, vuelve a introducir los valores\n",
      "La orientacion solo puede ser horizontal o vertical. Introduce una de las dos palabras\n",
      "Ha ocurrido un error, vuelve a introducir los valores\n",
      "Ha ocurrido un error, vuelve a introducir los valores\n",
      "Ha ocurrido un error, vuelve a introducir los valores\n",
      "Ha ocurrido un error, vuelve a introducir los valores\n",
      "Ha ocurrido un error, vuelve a introducir los valores\n",
      "Ha ocurrido un error, vuelve a introducir los valores\n",
      "Ha ocurrido un error, vuelve a introducir los valores\n",
      "La orientacion solo puede ser horizontal o vertical. Introduce una de las dos palabras\n",
      "Ha ocurrido un error, vuelve a introducir los valores\n"
     ]
    }
   ],
   "source": [
    "def pedir_datos_barco():\n",
    "    while True:\n",
    "        try:\n",
    "            fila = int(input(\"Introduce un numero del 0 al 10\"))\n",
    "            columna = int(input(\"Introduce un número del 0 al 10\"))\n",
    "            eslora = int(input(\"Selecciona tu eslora entre 2 ,3 y 4\"))\n",
    "            orientacion = input(\"Introduce una orientacion entre horizontal/vertical\")\n",
    "            lista_barco = [eslora,fila,columna,orientacion]\n",
    "            if fila < 0 or columna < 0:\n",
    "                print(\"El número no puede  menor que 0, vuelve a introducir los valores\")\n",
    "                continue\n",
    "            if eslora != 2 and eslora != 3 and eslora != 4 :\n",
    "                print(\"La eslora debe ser un valor entre 2 y 4 (Ambos incluidos)\")\n",
    "                continue\n",
    "            if orientacion.lower() != \"horizontal\" and orientacion.lower() != \"vertical\":\n",
    "                print(\"La orientacion solo puede ser horizontal o vertical. Introduce una de las dos palabras\")\n",
    "                continue\n",
    "            return lista_barco\n",
    "        except:\n",
    "             print(\"Ha ocurrido un error, vuelve a introducir los valores\")\n",
    "lista_barco = pedir_datos_barco()"
   ]
  },
  {
   "cell_type": "code",
   "execution_count": null,
   "metadata": {},
   "outputs": [
    {
     "data": {
      "text/plain": [
       "(0, 0)"
      ]
     },
     "execution_count": 18,
     "metadata": {},
     "output_type": "execute_result"
    }
   ],
   "source": [
    "def ajustar_posicion_inicial(lista_barco):\n",
    "    posicion_inicial = (lista_barco[1],lista_barco[2])\n",
    "    if lista_barco [3].lower()== \"horizontal\" and lista_barco[2] >= 6:\n",
    "        posicion_inicial = (lista_barco[1], lista_barco[2] - lista_barco[0])\n",
    "        return posicion_inicial\n",
    "    elif lista_barco [3].lower() == \"vertical\" and lista_barco[0]>= 6:\n",
    "        posicion_inicial = (lista_barco[1] - lista_barco[0], lista_barco[2])\n",
    "        return posicion_inicial\n",
    "    else:\n",
    "        posicion_inicial = (lista_barco[1],lista_barco[2])\n",
    "        return posicion_inicial\n",
    "    \n",
    "\n",
    "ajustar_posicion_inicial(lista_barco)\n"
   ]
  },
  {
   "cell_type": "code",
   "execution_count": null,
   "metadata": {},
   "outputs": [],
   "source": [
    "def crear_barco(lista_barco):\n",
    "    posicion_inicial= ajustar_posicion_inicial(lista_barco)\n",
    "    if lista_barco[0] not in [2,3,4]:\n",
    "        return \"Error la eslora debe ser 2, 3 o 4\"\n",
    "    barco =[posicion_inicial]\n",
    "    for i in range(1,lista_barco[0]):\n",
    "        if lista_barco[3].lower()== \"horizontal\":\n",
    "            barco.append((barco[0][0],barco [0][1]+ i))\n",
    "        elif lista_barco[3].lower() == \"vertical\":\n",
    "            barco.append((barco[0][0] + i,barco[0][1]))\n",
    "        else:\n",
    "            print(\"Ha habido un error\")\n",
    "    return barco\n"
   ]
  },
  {
   "cell_type": "code",
   "execution_count": null,
   "metadata": {},
   "outputs": [
    {
     "name": "stdout",
     "output_type": "stream",
     "text": [
      "[(0, 0), (1, 0), (2, 0), (3, 0)]\n"
     ]
    }
   ],
   "source": [
    "print (crear_barco(lista_barco))\n"
   ]
  },
  {
   "cell_type": "code",
   "execution_count": null,
   "metadata": {},
   "outputs": [],
   "source": [
    "def colocar_barco(barco, tablero):\n",
    "    for casilla in barco:\n",
    "        tablero[casilla] = \"O\"\n",
    "    return tablero\n"
   ]
  },
  {
   "cell_type": "code",
   "execution_count": null,
   "metadata": {},
   "outputs": [
    {
     "ename": "SyntaxError",
     "evalue": "invalid syntax (3724654105.py, line 6)",
     "output_type": "error",
     "traceback": [
      "\u001b[1;36m  Cell \u001b[1;32mIn[22], line 6\u001b[1;36m\u001b[0m\n\u001b[1;33m    tablero =\u001b[0m\n\u001b[1;37m              ^\u001b[0m\n\u001b[1;31mSyntaxError\u001b[0m\u001b[1;31m:\u001b[0m invalid syntax\n"
     ]
    }
   ],
   "source": [
    "import numpy as np\n",
    "import random\n",
    "\n",
    "def crear_tablero(tamaño=(10,10)):\n",
    "    return np.full(tamaño, '_')\n",
    "tablero = "
   ]
  },
  {
   "cell_type": "code",
   "execution_count": 1,
   "metadata": {},
   "outputs": [],
   "source": [
    "\n",
    "def generacion_barcos():\n",
    "    tablero = crear_tablero()\n",
    "    total_barcos = 0\n",
    "    while total_barcos < 6:\n",
    "        lista_barco = pedir_datos_barco()\n",
    "        ajustar_posicion_inicial(lista_barco)\n",
    "        barco = crear_barco(lista_barco)\n",
    "        colocar_barco(barco, tablero)\n",
    "        tablero = colocar_barco(barco, tablero)\n",
    "        print(f\"Asi queda tu tablero: \\n {tablero}\")\n",
    "        total_barcos += 1\n",
    "    return tablero"
   ]
  },
  {
   "cell_type": "code",
   "execution_count": 2,
   "metadata": {},
   "outputs": [
    {
     "ename": "NameError",
     "evalue": "name 'crear_tablero' is not defined",
     "output_type": "error",
     "traceback": [
      "\u001b[1;31m---------------------------------------------------------------------------\u001b[0m",
      "\u001b[1;31mNameError\u001b[0m                                 Traceback (most recent call last)",
      "Cell \u001b[1;32mIn[2], line 1\u001b[0m\n\u001b[1;32m----> 1\u001b[0m \u001b[43mgeneracion_barcos\u001b[49m\u001b[43m(\u001b[49m\u001b[43m)\u001b[49m\n",
      "Cell \u001b[1;32mIn[1], line 2\u001b[0m, in \u001b[0;36mgeneracion_barcos\u001b[1;34m()\u001b[0m\n\u001b[0;32m      1\u001b[0m \u001b[38;5;28;01mdef\u001b[39;00m\u001b[38;5;250m \u001b[39m\u001b[38;5;21mgeneracion_barcos\u001b[39m():\n\u001b[1;32m----> 2\u001b[0m     tablero \u001b[38;5;241m=\u001b[39m \u001b[43mcrear_tablero\u001b[49m()\n\u001b[0;32m      3\u001b[0m     total_barcos \u001b[38;5;241m=\u001b[39m \u001b[38;5;241m0\u001b[39m\n\u001b[0;32m      4\u001b[0m     \u001b[38;5;28;01mwhile\u001b[39;00m total_barcos \u001b[38;5;241m<\u001b[39m \u001b[38;5;241m6\u001b[39m:\n",
      "\u001b[1;31mNameError\u001b[0m: name 'crear_tablero' is not defined"
     ]
    }
   ],
   "source": [
    "generacion_barcos()"
   ]
  },
  {
   "cell_type": "code",
   "execution_count": null,
   "metadata": {},
   "outputs": [],
   "source": []
  }
 ],
 "metadata": {
  "kernelspec": {
   "display_name": "Python 3",
   "language": "python",
   "name": "python3"
  },
  "language_info": {
   "codemirror_mode": {
    "name": "ipython",
    "version": 3
   },
   "file_extension": ".py",
   "mimetype": "text/x-python",
   "name": "python",
   "nbconvert_exporter": "python",
   "pygments_lexer": "ipython3",
   "version": "3.10.11"
  }
 },
 "nbformat": 4,
 "nbformat_minor": 2
}
