{
 "cells": [
  {
   "cell_type": "code",
   "execution_count": 62,
   "metadata": {},
   "outputs": [],
   "source": [
    "def pedir_datos_barco():\n",
    "    while True:\n",
    "        try:\n",
    "            fila = int(input(\"Introduce un numero del 0 al 10\"))\n",
    "            columna = int(input(\"Introduce un número del 0 al 10\"))\n",
    "            eslora = int(input(\"Selecciona tu eslora entre 2 ,3 y 4\"))\n",
    "            orientacion = input(\"Introduce una orientacion entre horizontal/vertical\")\n",
    "            lista_barco = [eslora,fila,columna,orientacion]\n",
    "            if fila <= 0 or columna <= 0:\n",
    "                print(\"El número no puede ser 0 o menor, vuelve a introducir los valores\")\n",
    "                continue\n",
    "            if eslora != 2 and eslora != 3 and eslora != 4 :\n",
    "                print(\"La eslora debe ser un valor entre 2 y 4 (Ambos incluidos)\")\n",
    "                continue\n",
    "            if orientacion.lower() != \"horizontal\" and orientacion.lower() != \"vertical\":\n",
    "                print(\"La orientacion solo puede ser horizontal o vertical. Introduce una de las dos palabras\")\n",
    "                continue\n",
    "            return lista_barco\n",
    "        except:\n",
    "             print(\"Ha ocurrido un error, vuelve a introducir los valores\")\n",
    "lista_barco = pedir_datos_barco()"
   ]
  },
  {
   "cell_type": "code",
   "execution_count": 63,
   "metadata": {},
   "outputs": [
    {
     "data": {
      "text/plain": [
       "(2, 4)"
      ]
     },
     "execution_count": 63,
     "metadata": {},
     "output_type": "execute_result"
    }
   ],
   "source": [
    "def ajustar_posicion_inicial(lista_barco):\n",
    "    posicion_inicial = (lista_barco[1],lista_barco[2])\n",
    "    if lista_barco [3].lower()== \"horizontal\" and lista_barco[2] >= 6:\n",
    "        posicion_inicial = (lista_barco[1], lista_barco[2] - lista_barco[0])\n",
    "        return posicion_inicial\n",
    "    elif lista_barco [3].lower() == \"vertical\" and lista_barco[0]>= 6:\n",
    "        posicion_inicial = (lista_barco[1] - lista_barco[0], lista_barco[2])\n",
    "        return posicion_inicial\n",
    "    else:\n",
    "        posicion_inicial = (lista_barco[1],lista_barco[2])\n",
    "        return posicion_inicial\n",
    "    \n",
    "\n",
    "ajustar_posicion_inicial(lista_barco)\n"
   ]
  },
  {
   "cell_type": "code",
   "execution_count": 64,
   "metadata": {},
   "outputs": [],
   "source": [
    "def crear_barco(lista_barco):\n",
    "    posicion_inicial= ajustar_posicion_inicial(lista_barco)\n",
    "    if lista_barco[0] not in [2,3,4]:\n",
    "        return \"Error la eslora debe ser 2, 3 o 4\"\n",
    "    barco =[posicion_inicial]\n",
    "    for i in range(1,lista_barco[0]):\n",
    "        if lista_barco[3].lower()== \"horizontal\":\n",
    "            barco.append((barco[0][0],barco [0][1]+ i))\n",
    "        elif lista_barco[3].lower() == \"vertical\":\n",
    "            barco.append((barco[0][0] + i,barco[0][1]))\n",
    "        else:\n",
    "            print(\"Ha habido un error\")\n",
    "    return barco\n"
   ]
  },
  {
   "cell_type": "code",
   "execution_count": 65,
   "metadata": {},
   "outputs": [
    {
     "name": "stdout",
     "output_type": "stream",
     "text": [
      "[(2, 4), (2, 5), (2, 6), (2, 7)]\n"
     ]
    }
   ],
   "source": [
    "print (crear_barco(lista_barco))\n"
   ]
  },
  {
   "cell_type": "code",
   "execution_count": 38,
   "metadata": {},
   "outputs": [],
   "source": [
    "import numpy as np\n",
    "import random\n",
    "\n",
    "def crear_tablero(tamaño=(10,10)):\n",
    "    return np.full(tamaño, '_')"
   ]
  },
  {
   "cell_type": "code",
   "execution_count": 40,
   "metadata": {},
   "outputs": [
    {
     "data": {
      "text/plain": [
       "array([['_', '_', '_', '_', '_', '_', '_', '_', '_', '_'],\n",
       "       ['_', '_', '_', '_', '_', '_', '_', '_', '_', '_'],\n",
       "       ['_', '_', '_', '_', '_', '_', '_', '_', '_', '_'],\n",
       "       ['_', '_', '_', 'O', 'O', 'O', 'O', '_', '_', '_'],\n",
       "       ['_', '_', '_', '_', '_', '_', '_', '_', '_', '_'],\n",
       "       ['_', '_', '_', '_', '_', '_', '_', '_', '_', '_'],\n",
       "       ['_', '_', '_', '_', '_', '_', '_', '_', '_', '_'],\n",
       "       ['_', '_', '_', '_', '_', '_', '_', '_', '_', '_'],\n",
       "       ['_', '_', '_', '_', '_', '_', '_', '_', '_', '_'],\n",
       "       ['_', '_', '_', '_', '_', '_', '_', '_', '_', '_']], dtype='<U1')"
      ]
     },
     "execution_count": 40,
     "metadata": {},
     "output_type": "execute_result"
    }
   ],
   "source": [
    "tablero = crear_tablero()\n",
    "barco = crear_barco(4,3,7,\"Horizontal\")\n",
    "def colocar_barco(barco, tablero):\n",
    "    for casilla in barco:\n",
    "        tablero[casilla] = \"O\"\n",
    "    return tablero\n",
    "colocar_barco(barco,tablero)\n",
    "\n"
   ]
  },
  {
   "cell_type": "code",
   "execution_count": null,
   "metadata": {},
   "outputs": [],
   "source": []
  }
 ],
 "metadata": {
  "kernelspec": {
   "display_name": "Python 3",
   "language": "python",
   "name": "python3"
  },
  "language_info": {
   "codemirror_mode": {
    "name": "ipython",
    "version": 3
   },
   "file_extension": ".py",
   "mimetype": "text/x-python",
   "name": "python",
   "nbconvert_exporter": "python",
   "pygments_lexer": "ipython3",
   "version": "3.10.11"
  }
 },
 "nbformat": 4,
 "nbformat_minor": 2
}
