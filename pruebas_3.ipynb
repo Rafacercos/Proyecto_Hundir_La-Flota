{
 "cells": [
  {
   "cell_type": "code",
   "execution_count": 1,
   "metadata": {},
   "outputs": [],
   "source": [
    "import numpy as np\n",
    "import random\n",
    "\n",
    "def crear_tablero(tamaño=(10,10)):\n",
    "    return np.full(tamaño, '_')\n",
    "\n",
    "def colocar_barco(barco, tablero):\n",
    "    for casilla in barco:\n",
    "        tablero[casilla] = \"O\"\n",
    "    return tablero"
   ]
  },
  {
   "cell_type": "code",
   "execution_count": 2,
   "metadata": {},
   "outputs": [],
   "source": [
    "def pedir_datos_barco():\n",
    "    while True:\n",
    "        try:\n",
    "            fila = int(input(\"Introduce un numero del 0 al 10\"))\n",
    "            columna = int(input(\"Introduce un número del 0 al 10\"))\n",
    "            eslora = int(input(\"Selecciona tu eslora entre 2 ,3 y 4\"))\n",
    "            orientacion = input(\"Introduce una orientacion entre horizontal/vertical\")\n",
    "            lista_barco = [eslora,fila,columna,orientacion]\n",
    "            if fila < 0 or columna < 0:\n",
    "                print(\"El número no puede  menor que 0, vuelve a introducir los valores\")\n",
    "                continue\n",
    "            if eslora != 2 and eslora != 3 and eslora != 4 :\n",
    "                print(\"La eslora debe ser un valor entre 2 y 4 (Ambos incluidos)\")\n",
    "                continue\n",
    "            if orientacion.lower() != \"horizontal\" and orientacion.lower() != \"vertical\":\n",
    "                print(\"La orientacion solo puede ser horizontal o vertical. Introduce una de las dos palabras\")\n",
    "                continue\n",
    "            return lista_barco\n",
    "        except:\n",
    "             print(\"Ha ocurrido un error, vuelve a introducir los valores\")"
   ]
  },
  {
   "cell_type": "code",
   "execution_count": 3,
   "metadata": {},
   "outputs": [],
   "source": [
    "def ajustar_posicion_inicial(lista_barco):\n",
    "    posicion_inicial = (lista_barco[1],lista_barco[2])\n",
    "    if lista_barco [3].lower()== \"horizontal\" and lista_barco[2] >= 6:\n",
    "        posicion_inicial = (lista_barco[1], lista_barco[2] - lista_barco[0])\n",
    "        return posicion_inicial\n",
    "    elif lista_barco [3].lower() == \"vertical\" and lista_barco[0]>= 6:\n",
    "        posicion_inicial = (lista_barco[1] - lista_barco[0], lista_barco[2])\n",
    "        return posicion_inicial\n",
    "    else:\n",
    "        posicion_inicial = (lista_barco[1],lista_barco[2])\n",
    "        return posicion_inicial"
   ]
  },
  {
   "cell_type": "code",
   "execution_count": 4,
   "metadata": {},
   "outputs": [],
   "source": [
    "def crear_barco(lista_barco):\n",
    "    posicion_inicial= ajustar_posicion_inicial(lista_barco)\n",
    "    if lista_barco[0] not in [2,3,4]:\n",
    "        return \"Error la eslora debe ser 2, 3 o 4\"\n",
    "    barco =[posicion_inicial]\n",
    "    for i in range(1,lista_barco[0]):\n",
    "        if lista_barco[3].lower()== \"horizontal\":\n",
    "            barco.append((barco[0][0],barco [0][1]+ i))\n",
    "        elif lista_barco[3].lower() == \"vertical\":\n",
    "            barco.append((barco[0][0] + i,barco[0][1]))\n",
    "        else:\n",
    "            print(\"Ha habido un error\")\n",
    "    return barco"
   ]
  },
  {
   "cell_type": "code",
   "execution_count": null,
   "metadata": {},
   "outputs": [],
   "source": [
    "def generacion_barcos():\n",
    "    tablero = crear_tablero()\n",
    "    total_barcos = 0\n",
    "    while total_barcos < 6:\n",
    "        lista_barco = pedir_datos_barco()\n",
    "        ajustar_posicion_inicial(lista_barco)\n",
    "        barco = crear_barco(lista_barco)\n",
    "        colocar_barco(barco, tablero)\n",
    "        tablero = colocar_barco(barco, tablero)\n",
    "        print(f\"Asi queda tu tablero: \\n {tablero}\")\n",
    "        total_barcos += 1\n",
    "        if total_barcos == 6:\n",
    "            break\n",
    "    return tablero"
   ]
  },
  {
   "cell_type": "code",
   "execution_count": 9,
   "metadata": {},
   "outputs": [],
   "source": [
    "import random"
   ]
  },
  {
   "cell_type": "code",
   "execution_count": 10,
   "metadata": {},
   "outputs": [],
   "source": [
    "\n",
    "def datos_barco_maquina():\n",
    "    fila_aleatoria = random.randint(0,9)\n",
    "    columna_aleatoria = random.randint(0,9)\n",
    "    valores_eslora = [2,3,4]\n",
    "    frecuencia = [3,2,1]\n",
    "    orientacion = random.choice(\"horizontal\", \"vertical\")\n",
    "    eslora = random.choice(valores_eslora, weights = frecuencia, k=1)[0]\n",
    "    lista_barco_maquina = [eslora, fila_aleatoria,columna_aleatoria,orientacion]\n",
    "    return lista_barco_maquina"
   ]
  },
  {
   "cell_type": "code",
   "execution_count": null,
   "metadata": {},
   "outputs": [],
   "source": [
    "\n",
    "\n",
    "\n",
    "def ajustar_posicion_inicial(lista_barco):\n",
    "    posicion_inicial = (lista_barco[1],lista_barco[2])\n",
    "    if lista_barco [3].lower()== \"horizontal\" and lista_barco[2] >= 6:\n",
    "        posicion_inicial = (lista_barco[1], lista_barco[2] - lista_barco[0])\n",
    "        return posicion_inicial\n",
    "    elif lista_barco [3].lower() == \"vertical\" and lista_barco[0]>= 6:\n",
    "        posicion_inicial = (lista_barco[1] - lista_barco[0], lista_barco[2])\n",
    "        return posicion_inicial\n",
    "    else:\n",
    "        posicion_inicial = (lista_barco[1],lista_barco[2])\n",
    "        return posicion_inicial"
   ]
  }
 ],
 "metadata": {
  "kernelspec": {
   "display_name": "Python 3",
   "language": "python",
   "name": "python3"
  },
  "language_info": {
   "codemirror_mode": {
    "name": "ipython",
    "version": 3
   },
   "file_extension": ".py",
   "mimetype": "text/x-python",
   "name": "python",
   "nbconvert_exporter": "python",
   "pygments_lexer": "ipython3",
   "version": "3.10.11"
  }
 },
 "nbformat": 4,
 "nbformat_minor": 2
}
