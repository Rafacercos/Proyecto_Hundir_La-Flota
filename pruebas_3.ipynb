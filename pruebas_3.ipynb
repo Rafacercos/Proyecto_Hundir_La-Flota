{
 "cells": [
  {
   "cell_type": "code",
   "execution_count": 4,
   "metadata": {},
   "outputs": [],
   "source": [
    "import numpy as np\n",
    "import random\n",
    "\n",
    "def crear_tablero(tamaño=(10,10)):\n",
    "    return np.full(tamaño, '_')\n",
    "\n",
    "def colocar_barco(barco, tablero):\n",
    "    for casilla in barco:\n",
    "        tablero[casilla] = \"O\"\n",
    "    return tablero"
   ]
  },
  {
   "cell_type": "code",
   "execution_count": 5,
   "metadata": {},
   "outputs": [],
   "source": [
    "def pedir_datos_barco():\n",
    "    while True:\n",
    "        try:\n",
    "            fila = int(input(\"Introduce un numero del 0 al 10\"))\n",
    "            columna = int(input(\"Introduce un número del 0 al 10\"))\n",
    "            eslora = int(input(\"Selecciona tu eslora entre 2 ,3 y 4\"))\n",
    "            orientacion = input(\"Introduce una orientacion entre horizontal/vertical\")\n",
    "            lista_barco = [eslora,fila,columna,orientacion]\n",
    "            if fila < 0 or columna < 0:\n",
    "                print(\"El número no puede  menor que 0, vuelve a introducir los valores\")\n",
    "                continue\n",
    "            if eslora != 2 and eslora != 3 and eslora != 4 :\n",
    "                print(\"La eslora debe ser un valor entre 2 y 4 (Ambos incluidos)\")\n",
    "                continue\n",
    "            if orientacion.lower() != \"horizontal\" and orientacion.lower() != \"vertical\":\n",
    "                print(\"La orientacion solo puede ser horizontal o vertical. Introduce una de las dos palabras\")\n",
    "                continue\n",
    "            return lista_barco\n",
    "        except:\n",
    "             print(\"Ha ocurrido un error, vuelve a introducir los valores\")"
   ]
  },
  {
   "cell_type": "code",
   "execution_count": 6,
   "metadata": {},
   "outputs": [],
   "source": [
    "def ajustar_posicion_inicial(lista_barco):\n",
    "    posicion_inicial = (lista_barco[1],lista_barco[2])\n",
    "    if lista_barco [3].lower()== \"horizontal\" and lista_barco[2] >= 6:\n",
    "        posicion_inicial = (lista_barco[1], lista_barco[2] - lista_barco[0])\n",
    "        return posicion_inicial\n",
    "    elif lista_barco [3].lower() == \"vertical\" and lista_barco[0]>= 6:\n",
    "        posicion_inicial = (lista_barco[1] - lista_barco[0], lista_barco[2])\n",
    "        return posicion_inicial\n",
    "    else:\n",
    "        posicion_inicial = (lista_barco[1],lista_barco[2])\n",
    "        return posicion_inicial"
   ]
  },
  {
   "cell_type": "code",
   "execution_count": 8,
   "metadata": {},
   "outputs": [],
   "source": [
    "def crear_barco(lista_barco):\n",
    "    posicion_inicial= ajustar_posicion_inicial(lista_barco)\n",
    "    if lista_barco[0] not in [2,3,4]:\n",
    "        return \"Error la eslora debe ser 2, 3 o 4\"\n",
    "    barco =[posicion_inicial]\n",
    "    for i in range(1,lista_barco[0]):\n",
    "        if lista_barco[3].lower()== \"horizontal\":\n",
    "            barco.append((barco[0][0],barco [0][1]+ i))\n",
    "        elif lista_barco[3].lower() == \"vertical\":\n",
    "            barco.append((barco[0][0] + i,barco[0][1]))\n",
    "        else:\n",
    "            print(\"Ha habido un error\")\n",
    "    return barco"
   ]
  },
  {
   "cell_type": "code",
   "execution_count": 9,
   "metadata": {},
   "outputs": [],
   "source": [
    "import random"
   ]
  },
  {
   "cell_type": "code",
   "execution_count": 10,
   "metadata": {},
   "outputs": [],
   "source": [
    "def generacion_barcos():\n",
    "    tablero = crear_tablero()\n",
    "    total_barcos = 0\n",
    "    while total_barcos < 6:\n",
    "        lista_barco = pedir_datos_barco()\n",
    "        ajustar_posicion_inicial(lista_barco)\n",
    "        barco = crear_barco(lista_barco)\n",
    "        colocar_barco(barco, tablero)\n",
    "        tablero = colocar_barco(barco, tablero)\n",
    "        print(f\"Asi queda tu tablero: \\n {tablero}\")\n",
    "        total_barcos += 1\n",
    "    return tablero\n"
   ]
  },
  {
   "cell_type": "code",
   "execution_count": 11,
   "metadata": {},
   "outputs": [],
   "source": [
    "\n",
    "def datos_barco_maquina():\n",
    "    fila_aleatoria = random.randint(0,9)\n",
    "    columna_aleatoria = random.randint(0,9)\n",
    "    valores_eslora = [2,3,4]\n",
    "    frecuencia = [3,2,1]\n",
    "    orientacion = random.choice([\"horizontal\", \"vertical\"])\n",
    "    eslora = random.choices(valores_eslora, weights = frecuencia, k=1)[0]\n",
    "    lista_barco_maquina = [eslora, fila_aleatoria,columna_aleatoria,orientacion]\n",
    "    return lista_barco_maquina"
   ]
  },
  {
   "cell_type": "code",
   "execution_count": 12,
   "metadata": {},
   "outputs": [],
   "source": [
    "lista_barco_maquina = datos_barco_maquina()"
   ]
  },
  {
   "cell_type": "code",
   "execution_count": 14,
   "metadata": {},
   "outputs": [],
   "source": [
    "\n",
    "\n",
    "\n",
    "def ajustar_posicion_inicial(lista_barco):\n",
    "    posicion_inicial = (lista_barco[1],lista_barco[2])\n",
    "    if lista_barco [3].lower()== \"horizontal\" and lista_barco[2] >= 6:\n",
    "        posicion_inicial = (lista_barco[1], lista_barco[2] - lista_barco[0])\n",
    "        return posicion_inicial\n",
    "    elif lista_barco [3].lower() == \"vertical\" and lista_barco[1]>= 6:\n",
    "        posicion_inicial = (lista_barco[1] - lista_barco[0], lista_barco[2])\n",
    "        return posicion_inicial\n",
    "    else:\n",
    "        posicion_inicial = (lista_barco[1],lista_barco[2])\n",
    "        return posicion_inicial"
   ]
  },
  {
   "cell_type": "code",
   "execution_count": 15,
   "metadata": {},
   "outputs": [],
   "source": [
    "def ajustar_posicion_inicial_maquina(lista_barco_maquina):\n",
    "    posicion_inicial_maquina = (lista_barco_maquina[1],lista_barco_maquina[2])\n",
    "    if lista_barco_maquina [3].lower()== \"horizontal\" and lista_barco_maquina[2] >= 6:\n",
    "        posicion_inicial_maquina = (lista_barco_maquina[1], lista_barco_maquina[2] - lista_barco_maquina[0])\n",
    "        return posicion_inicial_maquina\n",
    "    elif lista_barco_maquina [3].lower() == \"vertical\" and lista_barco_maquina[1]>= 6:\n",
    "        posicion_inicial_maquina = (lista_barco_maquina[1] - lista_barco_maquina[0], lista_barco_maquina[2])\n",
    "        return posicion_inicial_maquina\n",
    "    else:\n",
    "        posicion_inicial_maquina = (lista_barco_maquina[1],lista_barco_maquina[2])\n",
    "        return posicion_inicial_maquina"
   ]
  },
  {
   "cell_type": "code",
   "execution_count": 16,
   "metadata": {},
   "outputs": [],
   "source": [
    "def generacion_barcos_maquina():\n",
    "    tablero_maquina = crear_tablero()\n",
    "    total_barcos = 0\n",
    "    while total_barcos < 6:\n",
    "        lista_barco_maquina = datos_barco_maquina()\n",
    "        ajustar_posicion_inicial_maquina(lista_barco_maquina)\n",
    "        barco = crear_barco(lista_barco_maquina)\n",
    "        colocar_barco(barco, tablero_maquina)\n",
    "        tablero_maquina = colocar_barco(barco, tablero_maquina)\n",
    "        total_barcos += 1\n",
    "    return tablero_maquina"
   ]
  },
  {
   "cell_type": "code",
   "execution_count": 17,
   "metadata": {},
   "outputs": [
    {
     "data": {
      "text/plain": [
       "array([['_', '_', '_', '_', 'O', 'O', '_', '_', '_', '_'],\n",
       "       ['_', '_', '_', '_', 'O', '_', '_', '_', '_', '_'],\n",
       "       ['_', '_', '_', '_', 'O', '_', '_', '_', '_', '_'],\n",
       "       ['_', '_', 'O', '_', '_', 'O', '_', '_', '_', '_'],\n",
       "       ['_', '_', 'O', '_', '_', 'O', '_', '_', '_', '_'],\n",
       "       ['_', '_', '_', '_', '_', '_', '_', '_', '_', '_'],\n",
       "       ['_', '_', '_', '_', '_', '_', '_', '_', '_', '_'],\n",
       "       ['_', '_', '_', '_', '_', '_', 'O', '_', '_', '_'],\n",
       "       ['_', '_', '_', '_', '_', '_', 'O', '_', '_', '_'],\n",
       "       ['_', '_', '_', '_', '_', '_', '_', 'O', 'O', '_']], dtype='<U1')"
      ]
     },
     "execution_count": 17,
     "metadata": {},
     "output_type": "execute_result"
    }
   ],
   "source": [
    "generacion_barcos_maquina()"
   ]
  },
  {
   "cell_type": "code",
   "execution_count": 18,
   "metadata": {},
   "outputs": [],
   "source": [
    "def pedir_coordenadas():\n",
    "    fila = int(input(\"En qué fila (0-9) quieres disparar?\"))\n",
    "    columna = int(input(\"En que columna (0-9) quieres disparar?\"))\n",
    "    coordenada = (fila,columna)\n",
    "    return coordenada"
   ]
  },
  {
   "cell_type": "code",
   "execution_count": 19,
   "metadata": {},
   "outputs": [],
   "source": [
    "tablero_visual = crear_tablero()"
   ]
  },
  {
   "cell_type": "code",
   "execution_count": 59,
   "metadata": {},
   "outputs": [],
   "source": [
    "def disparar_usuario():\n",
    "    coordenada = pedir_coordenadas()\n",
    "    tablero_maquina = generacion_barcos_maquina()\n",
    "    if tablero_maquina[coordenada] == \"O\":\n",
    "        print(\"Acertaste\")\n",
    "        tablero_visual[coordenada] = \"X\"\n",
    "        print(tablero_visual)\n",
    "        resultado = \"X\"\n",
    "    else:\n",
    "        print(\"Fallaste\")\n",
    "        tablero_visual[coordenada]  = \"A\"\n",
    "        print(tablero_visual)\n",
    "        resultado = \"A\"\n",
    "    if resultado == \"X\":\n",
    "        return disparar_usuario()\n",
    "    return tablero_visual,resultado"
   ]
  },
  {
   "cell_type": "code",
   "execution_count": 58,
   "metadata": {},
   "outputs": [
    {
     "name": "stdout",
     "output_type": "stream",
     "text": [
      "Acertaste\n",
      "[['_' '_' '_' '_' '_' '_' 'A' '_' '_' '_']\n",
      " ['_' '_' 'A' '_' '_' '_' '_' '_' '_' '_']\n",
      " ['A' 'X' 'X' 'A' '_' 'A' '_' '_' '_' '_']\n",
      " ['_' '_' 'A' '_' '_' '_' '_' '_' '_' '_']\n",
      " ['_' '_' '_' 'X' '_' '_' '_' 'A' '_' '_']\n",
      " ['_' '_' '_' '_' '_' 'A' '_' '_' '_' '_']\n",
      " ['_' '_' '_' '_' '_' '_' '_' '_' '_' '_']\n",
      " ['_' '_' '_' '_' '_' '_' '_' '_' '_' '_']\n",
      " ['_' '_' '_' '_' '_' 'A' '_' '_' '_' '_']\n",
      " ['_' '_' '_' '_' '_' '_' '_' '_' 'A' '_']]\n",
      "Acertaste\n",
      "[['_' '_' '_' '_' '_' '_' 'A' '_' '_' '_']\n",
      " ['_' '_' 'A' '_' '_' '_' '_' '_' '_' '_']\n",
      " ['A' 'X' 'X' 'A' '_' 'A' '_' '_' '_' '_']\n",
      " ['_' '_' 'A' '_' '_' '_' '_' '_' '_' '_']\n",
      " ['_' '_' '_' 'X' '_' '_' '_' 'A' '_' '_']\n",
      " ['_' '_' '_' 'X' '_' 'A' '_' '_' '_' '_']\n",
      " ['_' '_' '_' '_' '_' '_' '_' '_' '_' '_']\n",
      " ['_' '_' '_' '_' '_' '_' '_' '_' '_' '_']\n",
      " ['_' '_' '_' '_' '_' 'A' '_' '_' '_' '_']\n",
      " ['_' '_' '_' '_' '_' '_' '_' '_' 'A' '_']]\n",
      "Fallaste\n",
      "[['_' '_' '_' '_' '_' '_' 'A' '_' '_' '_']\n",
      " ['_' '_' 'A' '_' '_' '_' '_' '_' '_' '_']\n",
      " ['A' 'X' 'X' 'A' '_' 'A' '_' '_' '_' '_']\n",
      " ['_' '_' 'A' '_' '_' '_' '_' '_' '_' '_']\n",
      " ['_' '_' '_' 'X' '_' '_' '_' 'A' '_' '_']\n",
      " ['_' '_' '_' 'X' '_' 'A' '_' '_' '_' '_']\n",
      " ['_' '_' '_' 'A' '_' '_' '_' '_' '_' '_']\n",
      " ['_' '_' '_' '_' '_' '_' '_' '_' '_' '_']\n",
      " ['_' '_' '_' '_' '_' 'A' '_' '_' '_' '_']\n",
      " ['_' '_' '_' '_' '_' '_' '_' '_' 'A' '_']]\n"
     ]
    },
    {
     "data": {
      "text/plain": [
       "(array([['_', '_', '_', '_', '_', '_', 'A', '_', '_', '_'],\n",
       "        ['_', '_', 'A', '_', '_', '_', '_', '_', '_', '_'],\n",
       "        ['A', 'X', 'X', 'A', '_', 'A', '_', '_', '_', '_'],\n",
       "        ['_', '_', 'A', '_', '_', '_', '_', '_', '_', '_'],\n",
       "        ['_', '_', '_', 'X', '_', '_', '_', 'A', '_', '_'],\n",
       "        ['_', '_', '_', 'X', '_', 'A', '_', '_', '_', '_'],\n",
       "        ['_', '_', '_', 'A', '_', '_', '_', '_', '_', '_'],\n",
       "        ['_', '_', '_', '_', '_', '_', '_', '_', '_', '_'],\n",
       "        ['_', '_', '_', '_', '_', 'A', '_', '_', '_', '_'],\n",
       "        ['_', '_', '_', '_', '_', '_', '_', '_', 'A', '_']], dtype='<U1'),\n",
       " 'A')"
      ]
     },
     "execution_count": 58,
     "metadata": {},
     "output_type": "execute_result"
    }
   ],
   "source": [
    "disparar_usuario()"
   ]
  },
  {
   "cell_type": "code",
   "execution_count": 22,
   "metadata": {},
   "outputs": [],
   "source": [
    "def pedir_coordenadas_maquina():\n",
    "    fila = random.randint(0,9)\n",
    "    columna = random.randint(0,9)\n",
    "    coordenada = (fila,columna)\n",
    "    return coordenada"
   ]
  },
  {
   "cell_type": "code",
   "execution_count": 23,
   "metadata": {},
   "outputs": [
    {
     "name": "stdout",
     "output_type": "stream",
     "text": [
      "Asi queda tu tablero: \n",
      " [['_' '_' '_' '_' '_' '_' '_' '_' '_' '_']\n",
      " ['_' '_' '_' '_' '_' '_' '_' '_' '_' '_']\n",
      " ['_' '_' 'O' '_' '_' '_' '_' '_' '_' '_']\n",
      " ['_' '_' 'O' '_' '_' '_' '_' '_' '_' '_']\n",
      " ['_' '_' 'O' '_' '_' '_' '_' '_' '_' '_']\n",
      " ['_' '_' '_' '_' '_' '_' '_' '_' '_' '_']\n",
      " ['_' '_' '_' '_' '_' '_' '_' '_' '_' '_']\n",
      " ['_' '_' '_' '_' '_' '_' '_' '_' '_' '_']\n",
      " ['_' '_' '_' '_' '_' '_' '_' '_' '_' '_']\n",
      " ['_' '_' '_' '_' '_' '_' '_' '_' '_' '_']]\n",
      "Asi queda tu tablero: \n",
      " [['_' '_' '_' '_' '_' '_' '_' '_' '_' '_']\n",
      " ['_' '_' '_' '_' '_' '_' '_' '_' '_' '_']\n",
      " ['_' '_' 'O' 'O' 'O' '_' '_' '_' '_' '_']\n",
      " ['_' '_' 'O' '_' '_' '_' '_' '_' '_' '_']\n",
      " ['_' '_' 'O' '_' '_' '_' '_' '_' '_' '_']\n",
      " ['_' '_' '_' '_' '_' '_' '_' '_' '_' '_']\n",
      " ['_' '_' '_' '_' '_' '_' '_' '_' '_' '_']\n",
      " ['_' '_' '_' '_' '_' '_' '_' '_' '_' '_']\n",
      " ['_' '_' '_' '_' '_' '_' '_' '_' '_' '_']\n",
      " ['_' '_' '_' '_' '_' '_' '_' '_' '_' '_']]\n",
      "Asi queda tu tablero: \n",
      " [['_' '_' '_' '_' '_' '_' '_' '_' '_' '_']\n",
      " ['_' '_' '_' '_' '_' '_' '_' '_' '_' '_']\n",
      " ['_' '_' 'O' 'O' 'O' '_' '_' '_' '_' '_']\n",
      " ['_' '_' 'O' '_' '_' '_' '_' '_' '_' '_']\n",
      " ['_' '_' 'O' '_' '_' '_' '_' '_' '_' '_']\n",
      " ['_' '_' '_' '_' '_' '_' '_' 'O' '_' '_']\n",
      " ['_' '_' '_' '_' '_' '_' '_' 'O' '_' '_']\n",
      " ['_' '_' '_' '_' '_' '_' '_' '_' '_' '_']\n",
      " ['_' '_' '_' '_' '_' '_' '_' '_' '_' '_']\n",
      " ['_' '_' '_' '_' '_' '_' '_' '_' '_' '_']]\n",
      "Asi queda tu tablero: \n",
      " [['_' '_' '_' '_' '_' '_' '_' '_' '_' '_']\n",
      " ['_' '_' '_' '_' '_' '_' '_' '_' '_' '_']\n",
      " ['_' '_' 'O' 'O' 'O' '_' '_' '_' '_' '_']\n",
      " ['_' '_' 'O' '_' '_' '_' '_' '_' '_' 'O']\n",
      " ['_' '_' 'O' '_' '_' '_' '_' '_' '_' 'O']\n",
      " ['_' '_' '_' '_' '_' '_' '_' 'O' '_' '_']\n",
      " ['_' '_' '_' '_' '_' '_' '_' 'O' '_' '_']\n",
      " ['_' '_' '_' '_' '_' '_' '_' '_' '_' '_']\n",
      " ['_' '_' '_' '_' '_' '_' '_' '_' '_' '_']\n",
      " ['_' '_' '_' '_' '_' '_' '_' '_' '_' '_']]\n",
      "Asi queda tu tablero: \n",
      " [['_' '_' '_' '_' '_' '_' '_' '_' '_' '_']\n",
      " ['_' '_' '_' '_' 'O' 'O' '_' '_' '_' '_']\n",
      " ['_' '_' 'O' 'O' 'O' '_' '_' '_' '_' '_']\n",
      " ['_' '_' 'O' '_' '_' '_' '_' '_' '_' 'O']\n",
      " ['_' '_' 'O' '_' '_' '_' '_' '_' '_' 'O']\n",
      " ['_' '_' '_' '_' '_' '_' '_' 'O' '_' '_']\n",
      " ['_' '_' '_' '_' '_' '_' '_' 'O' '_' '_']\n",
      " ['_' '_' '_' '_' '_' '_' '_' '_' '_' '_']\n",
      " ['_' '_' '_' '_' '_' '_' '_' '_' '_' '_']\n",
      " ['_' '_' '_' '_' '_' '_' '_' '_' '_' '_']]\n",
      "Asi queda tu tablero: \n",
      " [['_' '_' '_' '_' '_' '_' '_' '_' '_' '_']\n",
      " ['_' '_' '_' '_' 'O' 'O' '_' '_' '_' '_']\n",
      " ['_' '_' 'O' 'O' 'O' '_' '_' '_' '_' '_']\n",
      " ['_' '_' 'O' '_' '_' '_' '_' '_' '_' 'O']\n",
      " ['_' '_' 'O' '_' '_' '_' '_' '_' '_' 'O']\n",
      " ['_' '_' '_' 'O' '_' '_' '_' 'O' '_' '_']\n",
      " ['_' '_' '_' 'O' '_' '_' '_' 'O' '_' '_']\n",
      " ['_' '_' '_' '_' '_' '_' '_' '_' '_' '_']\n",
      " ['_' '_' '_' '_' '_' '_' '_' '_' '_' '_']\n",
      " ['_' '_' '_' '_' '_' '_' '_' '_' '_' '_']]\n"
     ]
    }
   ],
   "source": [
    "tablero_usuario = generacion_barcos()"
   ]
  },
  {
   "cell_type": "code",
   "execution_count": 50,
   "metadata": {},
   "outputs": [],
   "source": [
    "def disparar_maquina():\n",
    "    coordenada = pedir_coordenadas_maquina()\n",
    "    if tablero_usuario[coordenada] == \"O\":\n",
    "        print(\"Acertaste\")\n",
    "        tablero_usuario[coordenada] = \"X\"\n",
    "        resultado = \"X\"\n",
    "    else:\n",
    "        print(\"Fallaste\")\n",
    "        tablero_usuario[coordenada]  = \"A\"\n",
    "        resultado = \"A\"\n",
    "    if resultado == \"X\":\n",
    "        return disparar_maquina()\n",
    "    return tablero_usuario,resultado\n",
    " \n"
   ]
  },
  {
   "cell_type": "code",
   "execution_count": 51,
   "metadata": {},
   "outputs": [
    {
     "name": "stdout",
     "output_type": "stream",
     "text": [
      "Fallaste\n"
     ]
    },
    {
     "data": {
      "text/plain": [
       "(array([['A', '_', '_', '_', '_', '_', '_', 'A', '_', '_'],\n",
       "        ['_', '_', '_', '_', 'O', 'O', '_', '_', '_', 'A'],\n",
       "        ['_', '_', 'O', 'O', 'O', '_', '_', '_', '_', '_'],\n",
       "        ['A', '_', 'O', '_', '_', '_', '_', '_', '_', 'O'],\n",
       "        ['_', '_', 'O', '_', '_', 'A', '_', '_', '_', 'O'],\n",
       "        ['_', '_', '_', 'O', '_', '_', '_', 'O', '_', '_'],\n",
       "        ['_', '_', '_', 'O', '_', '_', '_', 'O', '_', '_'],\n",
       "        ['_', 'A', '_', '_', '_', '_', '_', '_', '_', '_'],\n",
       "        ['_', '_', '_', '_', '_', 'A', '_', '_', '_', 'A'],\n",
       "        ['_', '_', '_', 'A', '_', '_', '_', '_', '_', 'A']], dtype='<U1'),\n",
       " 'A')"
      ]
     },
     "execution_count": 51,
     "metadata": {},
     "output_type": "execute_result"
    }
   ],
   "source": [
    "disparar_maquina()"
   ]
  },
  {
   "cell_type": "code",
   "execution_count": null,
   "metadata": {},
   "outputs": [],
   "source": [
    "def disparar_general():\n",
    "    coordenada = pedir_coordenadas()\n",
    "    tablero_maquina = generacion_barcos_maquina()\n",
    "    if tablero_maquina[coordenada] == \"O\":\n",
    "        print(\"Acertaste\")\n",
    "        tablero_visual[coordenada] = \"X\"\n",
    "        print(tablero_visual)\n",
    "        resultado = \"X\"\n",
    "    else:\n",
    "        print(\"Fallaste\")\n",
    "        tablero_visual[coordenada]  = \"A\"\n",
    "        print(tablero_visual)\n",
    "        resultado = \"A\"\n",
    "    if resultado == \"X\":\n",
    "        return disparar_usuario()\n",
    "    elif resultado == \"A\":\n",
    "        return disparar_maquina()\n",
    "    return tablero_visual,resultado"
   ]
  }
 ],
 "metadata": {
  "kernelspec": {
   "display_name": "Python 3",
   "language": "python",
   "name": "python3"
  },
  "language_info": {
   "codemirror_mode": {
    "name": "ipython",
    "version": 3
   },
   "file_extension": ".py",
   "mimetype": "text/x-python",
   "name": "python",
   "nbconvert_exporter": "python",
   "pygments_lexer": "ipython3",
   "version": "3.10.11"
  }
 },
 "nbformat": 4,
 "nbformat_minor": 2
}
